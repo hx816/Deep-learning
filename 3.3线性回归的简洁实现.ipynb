{
 "cells": [
  {
   "cell_type": "code",
   "execution_count": 1,
   "id": "7774b893",
   "metadata": {},
   "outputs": [],
   "source": [
    "import numpy as np\n",
    "import torch\n",
    "from torch.utils import data # 导入Python模块，用于PyTorch中的数据加载和预处理\n",
    "from d2l import torch as d2l\n",
    "\n",
    "true_w = torch.tensor([2, -3.4])\n",
    "true_b = 4.2\n",
    "features, labels = d2l.synthetic_data(true_w, true_b, 1000)"
   ]
  },
  {
   "cell_type": "code",
   "execution_count": 2,
   "id": "cdaec383",
   "metadata": {},
   "outputs": [],
   "source": [
    "def load_array(data_arrays, batch_size, is_train=True):  #@save\n",
    "    \"\"\"构造一个PyTorch数据迭代器\"\"\"\n",
    "    dataset = data.TensorDataset(*data_arrays)\n",
    "    return data.DataLoader(dataset, batch_size, shuffle=is_train)\n",
    "\n",
    "batch_size = 10\n",
    "data_iter = load_array((features, labels), batch_size) # 特征矩阵、标签向量和批量大小"
   ]
  },
  {
   "cell_type": "code",
   "execution_count": 3,
   "id": "ffde8639",
   "metadata": {},
   "outputs": [
    {
     "data": {
      "text/plain": [
       "[tensor([[-0.0357, -0.7528],\n",
       "         [ 1.0339, -0.2799],\n",
       "         [-0.3294,  2.4843],\n",
       "         [-2.2866,  2.3697],\n",
       "         [ 1.3285, -1.1970],\n",
       "         [-0.4586, -1.5273],\n",
       "         [ 0.0769,  0.1553],\n",
       "         [-0.4533, -1.9133],\n",
       "         [ 0.2741,  1.5861],\n",
       "         [-0.0463, -0.6789]]),\n",
       " tensor([[ 6.6833],\n",
       "         [ 7.2181],\n",
       "         [-4.9254],\n",
       "         [-8.4361],\n",
       "         [10.9177],\n",
       "         [ 8.4737],\n",
       "         [ 3.8164],\n",
       "         [ 9.7989],\n",
       "         [-0.6438],\n",
       "         [ 6.4214]])]"
      ]
     },
     "execution_count": 3,
     "metadata": {},
     "output_type": "execute_result"
    }
   ],
   "source": [
    "next(iter(data_iter))\n",
    "# 获取data_iter中的第一个元素"
   ]
  },
  {
   "cell_type": "code",
   "execution_count": 4,
   "id": "1446ba0d",
   "metadata": {},
   "outputs": [],
   "source": [
    "# nn是神经网络的缩写\n",
    "from torch import nn\n",
    "\n",
    "net = nn.Sequential(nn.Linear(2, 1))\n",
    "# 输入特征形状2，输出特征形状为1，输出特征形状为单个标量"
   ]
  },
  {
   "cell_type": "code",
   "execution_count": 5,
   "id": "8b8c3a0d",
   "metadata": {},
   "outputs": [
    {
     "data": {
      "text/plain": [
       "tensor([0.])"
      ]
     },
     "execution_count": 5,
     "metadata": {},
     "output_type": "execute_result"
    }
   ],
   "source": [
    "net[0].weight.data.normal_(0, 0.01) # 权重参数从均值为0、标准差为0.01的正态分布中随机采样\n",
    "net[0].bias.data.fill_(0) # 偏置参数将初始化为0"
   ]
  },
  {
   "cell_type": "code",
   "execution_count": 6,
   "id": "cdfad77d",
   "metadata": {},
   "outputs": [],
   "source": [
    "loss = nn.MSELoss()\n",
    "# 均方误差使用的是MSELoss类，也称为平方L2范数"
   ]
  },
  {
   "cell_type": "code",
   "execution_count": 7,
   "id": "6f271eaa",
   "metadata": {},
   "outputs": [],
   "source": [
    "trainer = torch.optim.SGD(net.parameters(), lr=0.03)\n",
    "# 使用优化算法（随机梯度下降法SGD），学习率0.03"
   ]
  },
  {
   "cell_type": "code",
   "execution_count": 8,
   "id": "dd6715c6",
   "metadata": {},
   "outputs": [
    {
     "name": "stdout",
     "output_type": "stream",
     "text": [
      "epoch 1, loss 0.000234\n",
      "epoch 2, loss 0.000103\n",
      "epoch 3, loss 0.000103\n"
     ]
    }
   ],
   "source": [
    "num_epochs = 3 # 迭代周期个数\n",
    "for epoch in range(num_epochs):\n",
    "    for X, y in data_iter:\n",
    "        l = loss(net(X) ,y)\n",
    "        trainer.zero_grad() # 清空模型参数的梯度\n",
    "        l.backward()\n",
    "        trainer.step() # 更新所有的参数\n",
    "    l = loss(net(features), labels)\n",
    "    print(f'epoch {epoch + 1}, loss {l:f}')"
   ]
  },
  {
   "cell_type": "code",
   "execution_count": 9,
   "id": "f8300092",
   "metadata": {},
   "outputs": [
    {
     "name": "stdout",
     "output_type": "stream",
     "text": [
      "w的估计误差： tensor([-0.0004,  0.0006])\n",
      "b的估计误差： tensor([-0.0005])\n"
     ]
    }
   ],
   "source": [
    "w = net[0].weight.data\n",
    "print('w的估计误差：', true_w - w.reshape(true_w.shape))\n",
    "b = net[0].bias.data\n",
    "print('b的估计误差：', true_b - b)"
   ]
  },
  {
   "cell_type": "code",
   "execution_count": null,
   "id": "140c9ae8",
   "metadata": {},
   "outputs": [],
   "source": []
  }
 ],
 "metadata": {
  "kernelspec": {
   "display_name": "Python [conda env:pytorch]",
   "language": "python",
   "name": "conda-env-pytorch-py"
  },
  "language_info": {
   "codemirror_mode": {
    "name": "ipython",
    "version": 3
   },
   "file_extension": ".py",
   "mimetype": "text/x-python",
   "name": "python",
   "nbconvert_exporter": "python",
   "pygments_lexer": "ipython3",
   "version": "3.9.16"
  }
 },
 "nbformat": 4,
 "nbformat_minor": 5
}
